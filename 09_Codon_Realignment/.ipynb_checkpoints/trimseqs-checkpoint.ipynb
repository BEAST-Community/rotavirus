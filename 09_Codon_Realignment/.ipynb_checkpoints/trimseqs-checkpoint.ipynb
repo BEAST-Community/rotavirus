{
 "cells": [
  {
   "cell_type": "code",
   "execution_count": 1,
   "metadata": {
    "collapsed": false
   },
   "outputs": [],
   "source": [
    "import sys\n",
    "import re\n",
    "from copy import deepcopy\n",
    "from Bio import AlignIO\n",
    "from Bio.Align import MultipleSeqAlignment\n",
    "from Bio.Alphabet import Gapped\n",
    "from Bio.Alphabet.IUPAC import IUPACAmbiguousDNA, ExtendedIUPACProtein"
   ]
  },
  {
   "cell_type": "code",
   "execution_count": 2,
   "metadata": {
    "collapsed": true
   },
   "outputs": [],
   "source": [
    "# Input\n",
    "fn = \"NSP1Cr.fas.nonn.orf.revalign.dedup\"\n",
    "ofn = \"NSP1Cr.fas.nonn.orf.revalign.dedup.trimorf\"\n",
    "thresh = 300\n",
    "xthresh = 2\n",
    "gapthresh = 10"
   ]
  },
  {
   "cell_type": "code",
   "execution_count": 3,
   "metadata": {
    "collapsed": false
   },
   "outputs": [],
   "source": [
    "# Read alignment\n",
    "align = AlignIO.read(fn,\"fasta\",alphabet=Gapped(IUPACAmbiguousDNA(),\"-\"))"
   ]
  },
  {
   "cell_type": "code",
   "execution_count": 4,
   "metadata": {
    "collapsed": true
   },
   "outputs": [],
   "source": [
    "# Define sequence\n",
    "# kozak = re.compile(r\"GCC[AG]CCATGG\",re.IGNORECASE)\n",
    "kozak = re.compile(r\"[AG][ACTG][ACTG]ATGG\",re.IGNORECASE)"
   ]
  },
  {
   "cell_type": "code",
   "execution_count": 5,
   "metadata": {
    "collapsed": true
   },
   "outputs": [],
   "source": [
    "# Find end of regexp\n",
    "kozaklist = [kozak.search(str(a.seq)) for a in align]\n",
    "kozakmatches = [k for k in kozaklist if k!=None]\n",
    "kend = [k.span()[1] for k in kozakmatches]"
   ]
  },
  {
   "cell_type": "code",
   "execution_count": 6,
   "metadata": {
    "collapsed": true
   },
   "outputs": [],
   "source": [
    "# Make a list of hits before threshold\n",
    "klist = list(set(kend))\n",
    "klist.sort()\n",
    "klist = [k for k in klist if k<= thresh]\n",
    "klist = [k for k in klist if (k-1)%3==0]\n",
    "kfreq = [kend.count(k) for k in klist]"
   ]
  },
  {
   "cell_type": "code",
   "execution_count": 7,
   "metadata": {
    "collapsed": false
   },
   "outputs": [],
   "source": [
    "# Make a decision\n",
    "kpos = [i for i in range(len(kfreq)) if kfreq[i]==max(kfreq)][0]\n",
    "kvote = klist[kpos]"
   ]
  },
  {
   "cell_type": "code",
   "execution_count": 8,
   "metadata": {
    "collapsed": false
   },
   "outputs": [],
   "source": [
    "# Trim alignment\n",
    "trimalign=align[:,(kvote-4):]"
   ]
  },
  {
   "cell_type": "code",
   "execution_count": 9,
   "metadata": {
    "collapsed": false
   },
   "outputs": [],
   "source": [
    "pralign = MultipleSeqAlignment(records=[],alphabet=Gapped(ExtendedIUPACProtein(), '-'),annotations=None)\n",
    "for a in trimalign:\n",
    "    s=deepcopy(a)\n",
    "    s.seq = s.seq.translate()\n",
    "    pralign.append(s)"
   ]
  },
  {
   "cell_type": "code",
   "execution_count": 10,
   "metadata": {
    "collapsed": false
   },
   "outputs": [
    {
     "name": "stdout",
     "output_type": "stream",
     "text": [
      "[[0], [27]]\n"
     ]
    }
   ],
   "source": [
    "xcount = [str(p.seq).count('X') for p in pralign]\n",
    "xlist = list(set(xcount))\n",
    "xfreq = [xcount.count(x) for x in xlist]\n",
    "print([xlist,xfreq])"
   ]
  },
  {
   "cell_type": "code",
   "execution_count": 11,
   "metadata": {
    "collapsed": false
   },
   "outputs": [],
   "source": [
    "# Exclude sequences\n",
    "trimalign2 = [trimalign[i,:] for i in range(len(pralign)) if xcount[i] <= xthresh]\n",
    "trimalign2 = MultipleSeqAlignment(records=trimalign2,alphabet=Gapped(IUPACAmbiguousDNA(),\"-\"))"
   ]
  },
  {
   "cell_type": "code",
   "execution_count": 15,
   "metadata": {
    "collapsed": false
   },
   "outputs": [],
   "source": [
    "# Count gaps, then go in reverse until the threshold is first crossed\n",
    "ta2l = trimalign2.get_alignment_length()\n",
    "ta2n = len(trimalign2)\n",
    "gapcount = [trimalign2[:,i].count(\"-\") for i in range(ta2l)]\n",
    "for i in reversed(range(ta2l)):\n",
    "    if ta2n-gapcount[i] >= gapthresh:\n",
    "        break\n",
    "trimalign3 = trimalign2[:,:(i+1)]"
   ]
  },
  {
   "cell_type": "code",
   "execution_count": 19,
   "metadata": {
    "collapsed": false
   },
   "outputs": [
    {
     "data": {
      "text/plain": [
       "1188"
      ]
     },
     "execution_count": 19,
     "metadata": {},
     "output_type": "execute_result"
    }
   ],
   "source": [
    "len(str(trimalign2[0,:].seq))"
   ]
  },
  {
   "cell_type": "code",
   "execution_count": null,
   "metadata": {
    "collapsed": false
   },
   "outputs": [],
   "source": [
    "AlignIO.write(trimalign3,ofn,\"fasta\")"
   ]
  }
 ],
 "metadata": {
  "kernelspec": {
   "display_name": "Python 3",
   "language": "python",
   "name": "python3"
  },
  "language_info": {
   "codemirror_mode": {
    "name": "ipython",
    "version": 3
   },
   "file_extension": ".py",
   "mimetype": "text/x-python",
   "name": "python",
   "nbconvert_exporter": "python",
   "pygments_lexer": "ipython3",
   "version": "3.5.1"
  }
 },
 "nbformat": 4,
 "nbformat_minor": 0
}
